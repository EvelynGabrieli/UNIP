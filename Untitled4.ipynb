{
  "nbformat": 4,
  "nbformat_minor": 0,
  "metadata": {
    "colab": {
      "provenance": [],
      "authorship_tag": "ABX9TyOR7aq86fh2zY53wQK7H1k8",
      "include_colab_link": true
    },
    "kernelspec": {
      "name": "python3",
      "display_name": "Python 3"
    },
    "language_info": {
      "name": "python"
    }
  },
  "cells": [
    {
      "cell_type": "markdown",
      "metadata": {
        "id": "view-in-github",
        "colab_type": "text"
      },
      "source": [
        "<a href=\"https://colab.research.google.com/github/EvelynGabrieli/UNIP/blob/main/Untitled4.ipynb\" target=\"_parent\"><img src=\"https://colab.research.google.com/assets/colab-badge.svg\" alt=\"Open In Colab\"/></a>"
      ]
    },
    {
      "cell_type": "code",
      "source": [
        "ano = int(input(\"Digite um número \"))\n",
        "if ano %4 ==0 and ano%100!=0 or ano%400==0: \n",
        "  print(\"É bissexto\") \n",
        "else:\n",
        "  print(\"Não é bissexto \")"
      ],
      "metadata": {
        "colab": {
          "base_uri": "https://localhost:8080/"
        },
        "id": "K5QUMfPUVahF",
        "outputId": "0758a1c7-6a1a-45fd-c83e-76c846b5f154"
      },
      "execution_count": 2,
      "outputs": [
        {
          "output_type": "stream",
          "name": "stdout",
          "text": [
            "Digite um número2000\n",
            "É bissexto\n"
          ]
        }
      ]
    },
    {
      "cell_type": "code",
      "source": [
        "nome = input(\"Digite seu nome \")\n",
        "salario = float (input(\"Digite seu salário atual \"))\n",
        "\n",
        "if salario >= 1.500 :\n",
        "    aumento = salario * 0.20 \n",
        "    aumento1 = aumento + salario\n",
        "    print (nome , \" seu antigo salário era \" , salario , \" seu novo salário é \" , aumento1)\n",
        "elif salario >= 1500.00 or salario<= 2800.00:\n",
        "    aumento2 = salario * 0.15\n",
        "    aumentoo2 = aumento2 + salario\n",
        "    (nome , \" seu antigo salário era \" , salario , \" seu novo salário é \" , aumentoo2)\n",
        "elif salario >= 2800.00 or salario<= 5000.00:\n",
        "    aumento3 = salario * 0.10\n",
        "    aumentoo3 = aumento3 + salario\n",
        "    print(nome , \" seu antigo salário era \" , salario , \" seu novo salário é \" , aumentoo3)\n",
        "elif salario >= 5000.00:\n",
        "    aumento4 = salario * 0.05\n",
        "    aumentoo4 = aumento4 + salario\n",
        "    print(nome , \" seu antigo salário era \" , salario , \" seu novo salário é \" , aumentoo4)\n",
        "else:\n",
        "     print(\"Não tem aumento\")\n"
      ],
      "metadata": {
        "colab": {
          "base_uri": "https://localhost:8080/"
        },
        "id": "UmUiJihsWct9",
        "outputId": "703c55b5-3303-4a88-b7b5-c450a33eb58e"
      },
      "execution_count": 19,
      "outputs": [
        {
          "output_type": "stream",
          "name": "stdout",
          "text": [
            "Digite seu nome Evelyn\n",
            "Digite seu salário atual 1100.00\n",
            "Evelyn  seu antigo salário era  1100.0  seu novo salário é  1320.0\n"
          ]
        }
      ]
    },
    {
      "cell_type": "code",
      "source": [
        "num1 = int(input(\"Digite o numero 1 \"))\n",
        "num2 = int(input(\"Digite o numero 2 \"))\n",
        "num3 = int(input(\"Digite o numero 3 \"))\n",
        "if num2 > num1:\n",
        "  aux = num1\n",
        "  num1 = num2\n",
        "  num2 = aux\n",
        "\n",
        "if num3 > num1:\n",
        "  aux = num1\n",
        "  num1 = num3\n",
        "  num3 = aux\n",
        "\n",
        "if num3 > num2:\n",
        "  aux = num2\n",
        "  num2 = num3\n",
        "  num3 = aux\n",
        "\n",
        "print(\"Crescente: \" , num3, num2, num1)\n",
        "print(\"Decrescente: \" , num1, num2, num3)\n",
        "\n",
        "      \n"
      ],
      "metadata": {
        "colab": {
          "base_uri": "https://localhost:8080/"
        },
        "id": "y5pt_DfLd-UE",
        "outputId": "e9730f71-85e3-46d7-d2a0-f60628174008"
      },
      "execution_count": 23,
      "outputs": [
        {
          "output_type": "stream",
          "name": "stdout",
          "text": [
            "Digite o numero 1 10\n",
            "Digite o numero 2 5\n",
            "Digite o numero 3 8\n",
            "Crescente:  5 8 10\n",
            "Decrescente:  10 8 5\n"
          ]
        }
      ]
    },
    {
      "cell_type": "code",
      "source": [
        "diaSemana = int(input(\"Digite um numero de 1 a 7 \"))\n",
        "\n",
        "if diaSemana == 1:\n",
        "  print(\"Domingo\")\n",
        "if diaSemana == 2:\n",
        "  print(\"Segunda\")\n",
        "if diaSemana == 3:\n",
        "  print(\"Terça\")\n",
        "if diaSemana == 4:\n",
        "  print(\"Quarta\")\n",
        "if diaSemana == 5:\n",
        "  print(\"Quinta\")\n",
        "if diaSemana == 6:\n",
        "  print(\"Sexta\")\n",
        "if diaSemana == 7:\n",
        "  print(\"Sábado\")\n",
        "else:\n",
        "  print(\"Valor inválido!\")"
      ],
      "metadata": {
        "colab": {
          "base_uri": "https://localhost:8080/"
        },
        "id": "V8YqOtEuoGkK",
        "outputId": "23a05560-9e55-46e7-bca0-d9634958ee72"
      },
      "execution_count": 30,
      "outputs": [
        {
          "output_type": "stream",
          "name": "stdout",
          "text": [
            "Digite um numero de 1 a 7 4\n",
            "Quarta\n",
            "Valor inválido!\n"
          ]
        }
      ]
    },
    {
      "cell_type": "code",
      "source": [
        "\n",
        "lado1=int(input(\"Digite o lado 1 \"))\n",
        "lado2=int(input(\"Digite o lado 2 \"))\n",
        "lado3=int(input(\"Digite o lado 3 \"))\n",
        "if lado1 < lado2 + lado3 and lado2 < lado1 + lado3 and lado3 < lado1 + lado2:\n",
        "  if lado1 == lado2 == lado3:\n",
        "    print(\"Equilátero\")\n",
        "  elif lado1 == lado2 or lado1 == lado3 or lado2 == lado3: \n",
        "    print(\"isóceles\")\n",
        "  else:\n",
        "    print(\"escaleno\")\n",
        "else: \n",
        "  print(\"não forma um triângulo\")"
      ],
      "metadata": {
        "colab": {
          "base_uri": "https://localhost:8080/"
        },
        "id": "wYKM2OhHrJVL",
        "outputId": "4fd1a9a2-6741-4edd-c599-7d4641370c61"
      },
      "execution_count": 31,
      "outputs": [
        {
          "output_type": "stream",
          "name": "stdout",
          "text": [
            "Digite o lado 1 12\n",
            "Digite o lado 2 22\n",
            "Digite o lado 3 2\n",
            "não forma um triângulo\n"
          ]
        }
      ]
    },
    {
      "cell_type": "code",
      "source": [],
      "metadata": {
        "id": "GeeZgvr2ubU3"
      },
      "execution_count": null,
      "outputs": []
    },
    {
      "cell_type": "code",
      "source": [
        "\n"
      ],
      "metadata": {
        "id": "0yfWEmo_ZSGX"
      },
      "execution_count": null,
      "outputs": []
    }
  ]
}